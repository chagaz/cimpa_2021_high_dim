{
 "cells": [
  {
   "cell_type": "markdown",
   "id": "1b467207-481d-410d-8cf8-e0b4e72d7edd",
   "metadata": {},
   "source": [
    "# Feature selection in high-dimensional genetic data\n",
    "\n",
    "# Notebook 4: Mutitask approaches"
   ]
  },
  {
   "cell_type": "markdown",
   "id": "01663640-ff76-4ef0-b758-bf045875413d",
   "metadata": {},
   "source": [
    "## Introduction"
   ]
  },
  {
   "cell_type": "markdown",
   "id": "84b1d603-2470-4419-86ab-1dfd6a671281",
   "metadata": {},
   "source": [
    "We will now repeat the previous analysis for the 4W phenotype. It is very similar to the 2W phenotype, except that the seeds have been vernelized for 4 weeks. \n",
    "\n",
    "Then, because it is not unreasonable to expect the genomic regions driving both those phenotypes to be (almost) the same, we will use multi-task versions of the Lasso and elastic net analyze both phenotypes simultaneously.\n",
    "\n",
    "Check out the documentation: [sklearn.linear_model.MultiTaskLasso](http://scikit-learn.org/stable/modules/generated/sklearn.linear_model.MultiTaskLasso.html#sklearn.linear_model.MultiTaskLasso) + [User Guide](http://scikit-learn.org/stable/auto_examples/linear_model/plot_multi_task_lasso_support.html)"
   ]
  },
  {
   "cell_type": "markdown",
   "id": "e5035158-ef54-452a-9f0e-3a673e3e37aa",
   "metadata": {},
   "source": [
    "__Q: Is our setting it the same \"multi-task\" setting as the one described in the documentation of scikit-learn? What is the difference?__"
   ]
  },
  {
   "cell_type": "markdown",
   "id": "878bcc34-d086-47ee-86b0-ca38c888f2c2",
   "metadata": {},
   "source": [
    "__A:__ In the \"real\" multi-task setting (Obozinski et al., *Multi-task feature selection*, 2006), there are one design matrix and one output for each task. Here, however, the design matrix is the same for both tasks: we use the same genomic data -- the \"individuals\" are the same --, and only the phenotypes differs.\n",
    "\n",
    "Consequently, this setting is more restrictive than Obozinski's multi-task lasso."
   ]
  },
  {
   "cell_type": "markdown",
   "id": "b162031f-e252-468a-b01b-3a8490ceb0c5",
   "metadata": {},
   "source": [
    "Let us start with reloading the data."
   ]
  },
  {
   "cell_type": "code",
   "execution_count": 1,
   "id": "8db7bb2f-c00f-4f37-9117-e782da84e4be",
   "metadata": {},
   "outputs": [
    {
     "name": "stdout",
     "output_type": "stream",
     "text": [
      "Populating the interactive namespace from numpy and matplotlib\n"
     ]
    }
   ],
   "source": [
    "%pylab inline \n",
    "# imports matplotlib as plt and numpy as np"
   ]
  },
  {
   "cell_type": "code",
   "execution_count": 2,
   "id": "bb00a6bc-4b97-4e5d-bfee-08514cd53023",
   "metadata": {},
   "outputs": [],
   "source": [
    "plt.rc('font', **{'size': 14}) # font size for text on plots"
   ]
  },
  {
   "cell_type": "code",
   "execution_count": 3,
   "id": "ec876249-3fd7-4e30-ac8c-908ed096a72a",
   "metadata": {},
   "outputs": [],
   "source": [
    "import pandas as pd"
   ]
  },
  {
   "cell_type": "code",
   "execution_count": 4,
   "id": "393763a6-9756-4877-a171-2a758017741e",
   "metadata": {},
   "outputs": [
    {
     "name": "stdout",
     "output_type": "stream",
     "text": [
      "9419\n"
     ]
    }
   ],
   "source": [
    "# Loading the SNP names\n",
    "with open('data/athaliana_small.snps.txt') as f:\n",
    "    snp_names = f.readline().split()\n",
    "    f.close()\n",
    "print(len(snp_names))"
   ]
  },
  {
   "cell_type": "code",
   "execution_count": 5,
   "id": "edaf0b54-573d-4f6c-8ca8-2dd9cc5c8f8b",
   "metadata": {},
   "outputs": [],
   "source": [
    "# Loading the design matrix -- this can take time!\n",
    "X = np.loadtxt('data/athaliana_small.X.txt',  # file names\n",
    "               dtype = 'int') # values are integers\n",
    "p = X.shape[1]"
   ]
  },
  {
   "cell_type": "code",
   "execution_count": 6,
   "id": "5b089358-8456-43d4-99d4-1250d762d443",
   "metadata": {},
   "outputs": [],
   "source": [
    "# Loading the sample names\n",
    "samples = list(np.loadtxt('data/athaliana.samples.txt', # file names\n",
    "                         dtype=int)) # values are integers"
   ]
  },
  {
   "cell_type": "code",
   "execution_count": 7,
   "id": "597d71b5-8ef4-4a4a-a501-4eacf2dec9a9",
   "metadata": {},
   "outputs": [],
   "source": [
    "# Loading the list of candidate genes\n",
    "with open('data/athaliana.candidates.txt') as f:\n",
    "    candidate_genes = f.readline().split()\n",
    "    f.close()"
   ]
  },
  {
   "cell_type": "code",
   "execution_count": 8,
   "id": "869363f3-36bc-49b0-9e84-6f3114d580c4",
   "metadata": {},
   "outputs": [],
   "source": [
    "# Loading the SNPs-to-gene mapping\n",
    "genes_by_snp = {} # key: SNP, value = [genes in/near which this SNP is]\n",
    "with open('data/athaliana.snps_by_gene.txt') as f:\n",
    "    for line in f:\n",
    "        ls = line.split()\n",
    "        gene_id = ls[0]\n",
    "        for snp_id in ls[1:]:\n",
    "            if not snp_id in genes_by_snp:\n",
    "                genes_by_snp[snp_id] = []\n",
    "            genes_by_snp[snp_id].append(gene_id) "
   ]
  },
  {
   "cell_type": "markdown",
   "id": "d7db7a7c-6d60-4d8f-8ebb-a284ce93ab50",
   "metadata": {},
   "source": [
    "## Loading the 4W and 2W phenotypes"
   ]
  },
  {
   "cell_type": "markdown",
   "id": "3fd592f0-3953-49a7-86e5-07675ff57480",
   "metadata": {},
   "source": [
    "### Loading the 2W phenotype\n",
    "This is the same as in previous notebooks."
   ]
  },
  {
   "cell_type": "code",
   "execution_count": 9,
   "id": "a60fd10c-205e-40fa-8052-6b08e664d98a",
   "metadata": {},
   "outputs": [
    {
     "name": "stdout",
     "output_type": "stream",
     "text": [
      "152 samples have a 2W phenotype\n"
     ]
    }
   ],
   "source": [
    "df_2W = pd.read_csv('data/athaliana.2W.pheno', # file name\n",
    "                 header=None, # columns have no header\n",
    "                 delim_whitespace=True, # columns are separated by white space\n",
    "                 index_col=0) # read the first column as index\n",
    "\n",
    "# Create vector of sample IDs\n",
    "samples_with_phenotype_2W = list(df_2W.index)\n",
    "print(len(samples_with_phenotype_2W), \"samples have a 2W phenotype\")"
   ]
  },
  {
   "cell_type": "markdown",
   "id": "85589a86-68b1-479c-bbab-1d17b3e196ac",
   "metadata": {},
   "source": [
    "### Loading the 4W phenotype\n",
    "\n",
    "The 4W phenotype is very similar to the 2W phenotype; the only difference is that seeds have been vernalized for 4 weeks instead of 2."
   ]
  },
  {
   "cell_type": "code",
   "execution_count": 10,
   "id": "f9b1f769-3525-46c9-adfb-16dccaed8950",
   "metadata": {},
   "outputs": [
    {
     "name": "stdout",
     "output_type": "stream",
     "text": [
      "119 samples have a 4W phenotype\n"
     ]
    }
   ],
   "source": [
    "df_4W = pd.read_csv('data/athaliana.4W.pheno', # file name\n",
    "                 header=None, # columns have no header\n",
    "                 delim_whitespace=True, # columns are separated by white space\n",
    "                 index_col=0) # read the first column as index\n",
    "\n",
    "# Create vector of sample IDs\n",
    "samples_with_phenotype_4W = list(df_4W.index)\n",
    "print(len(samples_with_phenotype_4W), \"samples have a 4W phenotype\")"
   ]
  },
  {
   "cell_type": "markdown",
   "id": "ac3b9b59-10b4-4074-b605-faa47d839a53",
   "metadata": {},
   "source": [
    "### New design matrix\n",
    "\n",
    "We will now restrict ourselves to samples with _both_ 2W and 4W phenotypes."
   ]
  },
  {
   "cell_type": "code",
   "execution_count": 11,
   "id": "1a563967-19a9-4a22-90f3-30fcc411db70",
   "metadata": {},
   "outputs": [
    {
     "name": "stdout",
     "output_type": "stream",
     "text": [
      "117 samples have both phenotypes\n"
     ]
    }
   ],
   "source": [
    "samples_with_phenotype_both = list(set(samples_with_phenotype_2W).intersection(samples_with_phenotype_4W))\n",
    "print(len(samples_with_phenotype_both), \"samples have both phenotypes\")"
   ]
  },
  {
   "cell_type": "markdown",
   "id": "d34457b0-42f4-42f0-a8e5-40af4070d11f",
   "metadata": {},
   "source": [
    "Restricting the samples to those in both 2W and 4W"
   ]
  },
  {
   "cell_type": "code",
   "execution_count": 12,
   "id": "618983bd-ef59-4f3a-9545-0c1e70d6bc17",
   "metadata": {},
   "outputs": [],
   "source": [
    "X_both = X[np.array([samples.index(sample_id) for sample_id in samples_with_phenotype_both]), :]\n",
    "del X # You can delete X now if you want, to free space"
   ]
  },
  {
   "cell_type": "markdown",
   "id": "5442584d-4f5b-4738-92ea-e04907f8a4eb",
   "metadata": {},
   "source": [
    "Restricting the phenotypes to the samples in both 2W and 4W"
   ]
  },
  {
   "cell_type": "code",
   "execution_count": 13,
   "id": "608b25c2-623f-48f8-9b90-18a91f5fa31d",
   "metadata": {},
   "outputs": [],
   "source": [
    "# 2W phenotypes, ordered according to samples_with_phenotype_both\n",
    "df_2W_both = df_2W.loc[samples_with_phenotype_both]\n",
    "\n",
    "# 4W phenotypes, ordered according to samples_with_phenotype_both\n",
    "df_4W_both = df_4W.loc[samples_with_phenotype_both]\n",
    "\n",
    "# multitask phenotype matrix:\n",
    "y_both = np.hstack((df_2W_both, df_4W_both))"
   ]
  },
  {
   "cell_type": "markdown",
   "id": "1c489d70-cd0f-4909-87b5-08ca55c441a9",
   "metadata": {},
   "source": [
    "## Preliminary analysis\n",
    "\n",
    "Is it reasonable to expect the 2W and 4W phenotypes to share many explanatory SNPs?"
   ]
  },
  {
   "cell_type": "markdown",
   "id": "60d447ca-62d2-4dc6-839e-a472bce14b1c",
   "metadata": {},
   "source": [
    "### Correlation between the phenotypes"
   ]
  },
  {
   "cell_type": "code",
   "execution_count": 14,
   "id": "33be03ad-af64-43a5-b80f-612ab5dbb8cf",
   "metadata": {},
   "outputs": [],
   "source": [
    "from scipy.stats.stats import pearsonr"
   ]
  },
  {
   "cell_type": "code",
   "execution_count": 15,
   "id": "997f55ae-07f2-463b-bc03-ec36c3a3ffce",
   "metadata": {},
   "outputs": [
    {
     "name": "stdout",
     "output_type": "stream",
     "text": [
      "The correlation between the two phenotypes is 0.871\n"
     ]
    }
   ],
   "source": [
    "print(\"The correlation between the two phenotypes is %.3f\" % pearsonr(y_both[:, 0], y_both[:, 1])[0])"
   ]
  },
  {
   "cell_type": "code",
   "execution_count": 16,
   "id": "306ba606-ba26-42f9-b627-fa028251323b",
   "metadata": {},
   "outputs": [
    {
     "data": {
      "text/plain": [
       "Text(0, 0.5, '4W')"
      ]
     },
     "execution_count": 16,
     "metadata": {},
     "output_type": "execute_result"
    },
    {
     "data": {
      "image/png": "[encoded data removed]",
      "text/plain": [
       "<Figure size 432x288 with 1 Axes>"
      ]
     },
     "metadata": {
      "needs_background": "light"
     },
     "output_type": "display_data"
    }
   ],
   "source": [
    "plt.scatter(y_both[:, 0], y_both[:, 1])\n",
    "plt.xlabel(\"2W\")\n",
    "plt.ylabel(\"4W\")"
   ]
  },
  {
   "cell_type": "markdown",
   "id": "0670ec79-1fcb-4856-8e4a-42d2eec289e6",
   "metadata": {},
   "source": [
    "The two phenotypes are quite correlated, confirming our idea that they can be studied together."
   ]
  },
  {
   "cell_type": "markdown",
   "id": "b1cd2a0e-c3dc-49a7-b208-863e5b784d8f",
   "metadata": {},
   "source": [
    "### Manhattan plots"
   ]
  },
  {
   "cell_type": "markdown",
   "id": "5ddfdc76-50b1-4014-904b-e8600b37febb",
   "metadata": {},
   "source": [
    "We will now plot the Manhattan plots for both phenotypes."
   ]
  },
  {
   "cell_type": "code",
   "execution_count": 17,
   "id": "99cff73a-7c8b-4d28-8d9f-83c372b21b1d",
   "metadata": {},
   "outputs": [],
   "source": [
    "import statsmodels.api as sm"
   ]
  },
  {
   "cell_type": "code",
   "execution_count": 18,
   "id": "c9f4f0d5-8309-4ec8-9529-b8c401ee9d02",
   "metadata": {},
   "outputs": [],
   "source": [
    "## Compute p-values for both 2W and 4W\n",
    "pvalues_2W = []\n",
    "pvalues_4W = []\n",
    "for snp_idx in range(p):\n",
    "    X_snp = sm.add_constant(X_both[:, snp_idx])\n",
    "    ## 2W\n",
    "    est_2W = sm.regression.linear_model.OLS(y_both[:, 0], X_snp).fit()\n",
    "    pvalues_2W.append(est_2W.pvalues[1])\n",
    "    ## 4W\n",
    "    est_4W = sm.regression.linear_model.OLS(y_both[:, 1], X_snp).fit()\n",
    "    pvalues_4W.append(est_4W.pvalues[1])\n",
    "pvalues_2W = np.array(pvalues_2W)\n",
    "pvalues_4W = np.array(pvalues_4W)"
   ]
  },
  {
   "cell_type": "markdown",
   "id": "f5453c91-3bd1-4501-8cf8-6ad45cdbc40f",
   "metadata": {},
   "source": [
    "We can overlay the two Manhattan plots (and flip the second one):"
   ]
  },
  {
   "cell_type": "code",
   "execution_count": 19,
   "id": "c2df191a-aa8d-42fe-8206-eced39fecc4b",
   "metadata": {},
   "outputs": [
    {
     "data": {
      "text/plain": [
       "<matplotlib.legend.Legend at 0x7fd30cbe0550>"
      ]
     },
     "execution_count": 19,
     "metadata": {},
     "output_type": "execute_result"
    },
    {
     "data": {
      "image/png": "[encoded data removed]",
      "text/plain": [
       "<Figure size 1080x288 with 1 Axes>"
      ]
     },
     "metadata": {
      "needs_background": "light"
     },
     "output_type": "display_data"
    }
   ],
   "source": [
    "figure(figsize=(15, 4))\n",
    "\n",
    "plt.scatter(range(p), -np.log10(pvalues_2W), alpha=0.6, s=5, label=\"2W\")\n",
    "t = -np.log10(0.05 / p)\n",
    "plt.plot([0, p], [t, t], c=\"black\")\n",
    "plt.xlabel(\"feature\")\n",
    "plt.ylabel(\"-log10 p-value\")\n",
    "plt.xlim([0, p])\n",
    "\n",
    "plt.scatter(range(p), np.log10(pvalues_4W), alpha=0.6, s=5, label=\"4W\")\n",
    "plt.plot([0, p], [-t, -t], c=\"black\")\n",
    "\n",
    "plt.xlabel(\"feature\")\n",
    "plt.ylabel(\"-log10 p-value\")\n",
    "plt.xlim([0, p])\n",
    "plt.legend()"
   ]
  },
  {
   "cell_type": "markdown",
   "id": "68e87753-b576-46d1-a9c0-58ed3e5c75f2",
   "metadata": {},
   "source": [
    "There is no SNP significantly associated with the 4W phenotype, but the peaks of the two Manhattan plots correspond to the same regions."
   ]
  },
  {
   "cell_type": "markdown",
   "id": "bf7dfc8b-58ef-4eaa-bd9f-bf9c6056abea",
   "metadata": {},
   "source": [
    "Another possible visualization is to plot both pvalues ax xy-coordinates:"
   ]
  },
  {
   "cell_type": "code",
   "execution_count": 20,
   "id": "8b9b5301-7916-4655-8aba-947c5b083df9",
   "metadata": {},
   "outputs": [
    {
     "data": {
      "text/plain": [
       "Text(0, 0.5, '4W')"
      ]
     },
     "execution_count": 20,
     "metadata": {},
     "output_type": "execute_result"
    },
    {
     "data": {
      "image/png": "[encoded data removed]",
      "text/plain": [
       "<Figure size 360x360 with 1 Axes>"
      ]
     },
     "metadata": {
      "needs_background": "light"
     },
     "output_type": "display_data"
    }
   ],
   "source": [
    "figure(figsize=(5, 5))\n",
    "plt.scatter(-np.log10(pvalues_2W), -np.log10(pvalues_4W))\n",
    "plt.xlabel('2W'); plt.ylabel('4W')"
   ]
  },
  {
   "cell_type": "markdown",
   "id": "7b4be055-7fe1-4994-a2c0-5b15f2d5def9",
   "metadata": {},
   "source": [
    "Most SNPs are in the upper-low left corner (low p-values for both phenotypes). But there is a number of SNPs with both large 4W-pvalues and 2W-pvalues, which shows that the two pvalues are correlated. Moreover, there are no SNPs with a high pvalue for one phenotype and a small pvalue for the other."
   ]
  },
  {
   "cell_type": "markdown",
   "id": "855d9bcc-b2f9-43ed-8b2c-9effbc50bc97",
   "metadata": {},
   "source": [
    "__Q: What conclusion can you draw? Do the 2W and 4W phenotypes seem to be linked to the same genome loci?__"
   ]
  },
  {
   "cell_type": "markdown",
   "id": "e0493768-ff72-4821-a305-fc1595b4d2ca",
   "metadata": {},
   "source": [
    "__A:__ Comparison of the two pvalues indicates that the two phenotypes must be explained but the same set of SNPs (or at least, there is a large intersection between the two sets). This justifies using a multi-task setting."
   ]
  },
  {
   "cell_type": "markdown",
   "id": "4b5edb21-a348-49d2-8f09-869e82d300b5",
   "metadata": {},
   "source": [
    "## Train-test split"
   ]
  },
  {
   "cell_type": "code",
   "execution_count": 21,
   "id": "79b74bf6-ba68-4baf-9095-33f273f42a9d",
   "metadata": {},
   "outputs": [],
   "source": [
    "from sklearn import model_selection"
   ]
  },
  {
   "cell_type": "code",
   "execution_count": 22,
   "id": "3efa6bc7-4ac3-4ac9-b4fb-d998032587b2",
   "metadata": {},
   "outputs": [],
   "source": [
    "X_both_tr, X_both_te, y_both_tr, y_both_te = \\\n",
    "    model_selection.train_test_split(X_both, y_both, test_size=0.1, random_state=17)"
   ]
  },
  {
   "cell_type": "code",
   "execution_count": 23,
   "id": "7604e9c4-94b0-42db-a75f-9bcb41a30dc7",
   "metadata": {},
   "outputs": [
    {
     "name": "stdout",
     "output_type": "stream",
     "text": [
      "(117, 2) (105, 2) (12, 2)\n",
      "(117, 9419) (105, 9419) (12, 9419)\n"
     ]
    }
   ],
   "source": [
    "print(y_both.shape, y_both_tr.shape, y_both_te.shape)\n",
    "print(X_both.shape, X_both_tr.shape, X_both_te.shape)"
   ]
  },
  {
   "cell_type": "markdown",
   "id": "5ff64dc8-2420-4df0-9f7c-a0d90bd7f7af",
   "metadata": {},
   "source": [
    "## Lasso on the 2W phenotype\n",
    "\n",
    "We have fewer samples than for our previous analysis of the 2W phenotype, because we've restricted ourselves to samples for which both the 2W and 4W phenotypes are available. This will affect our ability to train a Lasso model for this phenotype.\n",
    "\n",
    "Here we re-run the same experiment as in Notebook 2, but restricted to the 117 samples that have both a 2W and a 4W phenotype."
   ]
  },
  {
   "cell_type": "code",
   "execution_count": 24,
   "id": "7d8b8445-b459-4c1d-bc5b-f31960db5b77",
   "metadata": {},
   "outputs": [],
   "source": [
    "from sklearn import linear_model"
   ]
  },
  {
   "cell_type": "code",
   "execution_count": 25,
   "id": "e303cc97-a2a4-4d44-90bc-e5b75ec72441",
   "metadata": {},
   "outputs": [],
   "source": [
    "# # You can use the Lasso path to determine the most appropriate range of values for alpha\n",
    "# alphas_lasso_2W, coefs_lasso_2W, _ = linear_model.lasso_path(X_both_tr, y_both_tr[:, 0], eps=1e-2, n_alphas=30, fit_intercept=True)\n",
    "# alphas_lasso_2W"
   ]
  },
  {
   "cell_type": "code",
   "execution_count": 26,
   "id": "41806fe8-bf85-4d79-9d25-8abff6240355",
   "metadata": {},
   "outputs": [],
   "source": [
    "lasso = linear_model.Lasso(fit_intercept=True, max_iter=6000)"
   ]
  },
  {
   "cell_type": "markdown",
   "id": "7bbac5f7-33ff-46a8-8adb-bbc11e24b397",
   "metadata": {},
   "source": [
    "Define cross-validation grid search and learn lasso with cross-validation."
   ]
  },
  {
   "cell_type": "code",
   "execution_count": 27,
   "id": "eb8ebe28-ba82-488a-8d19-07fd6d9dedda",
   "metadata": {},
   "outputs": [
    {
     "name": "stdout",
     "output_type": "stream",
     "text": [
      "Fitting 5 folds for each of 20 candidates, totalling 100 fits\n"
     ]
    },
    {
     "data": {
      "text/plain": [
       "GridSearchCV(estimator=Lasso(max_iter=6000),\n",
       "             param_grid={'alpha': array([ 0.01      ,  0.0143845 ,  0.02069138,  0.02976351,  0.04281332,\n",
       "        0.06158482,  0.08858668,  0.1274275 ,  0.18329807,  0.26366509,\n",
       "        0.37926902,  0.54555948,  0.78475997,  1.12883789,  1.62377674,\n",
       "        2.33572147,  3.35981829,  4.83293024,  6.95192796, 10.        ])},\n",
       "             scoring='explained_variance', verbose=1)"
      ]
     },
     "execution_count": 27,
     "metadata": {},
     "output_type": "execute_result"
    }
   ],
   "source": [
    "alphas = np.logspace(-2., 1., num=20)\n",
    "model_l1_2W = model_selection.GridSearchCV(lasso, param_grid = {'alpha': alphas}, \n",
    "                                        scoring='explained_variance', verbose=1)\n",
    "model_l1_2W.fit(X_both_tr, y_both_tr[:, 0])"
   ]
  },
  {
   "cell_type": "code",
   "execution_count": 28,
   "id": "8e099d24-3488-45ec-a608-11d1ec6e80d8",
   "metadata": {},
   "outputs": [
    {
     "data": {
      "text/plain": [
       "{'alpha': 1.1288378916846884}"
      ]
     },
     "execution_count": 28,
     "metadata": {},
     "output_type": "execute_result"
    }
   ],
   "source": [
    "model_l1_2W.best_params_"
   ]
  },
  {
   "cell_type": "code",
   "execution_count": 29,
   "id": "4bd1bee3-020f-4823-9444-c30252f6d051",
   "metadata": {},
   "outputs": [
    {
     "data": {
      "text/plain": [
       "(0.0, 9419.0)"
      ]
     },
     "execution_count": 29,
     "metadata": {},
     "output_type": "execute_result"
    },
    {
     "data": {
      "image/png": "[encoded data removed]",
      "text/plain": [
       "<Figure size 432x288 with 1 Axes>"
      ]
     },
     "metadata": {
      "needs_background": "light"
     },
     "output_type": "display_data"
    }
   ],
   "source": [
    "plt.figure(figsize = (6, 4))\n",
    "plt.scatter(range(p), # x = SNP position\n",
    "            model_l1_2W.best_estimator_.coef_)  # y = regression weights\n",
    "\n",
    "plt.xlabel(\"SNPs\")\n",
    "plt.ylabel(\"Regression weights\")\n",
    "plt.title(\"Lasso on the 2W phenotype\")\n",
    "plt.xlim([0, p])"
   ]
  },
  {
   "cell_type": "code",
   "execution_count": 30,
   "id": "8b221650-5a1a-4a5e-b298-16c303751ec2",
   "metadata": {},
   "outputs": [
    {
     "name": "stdout",
     "output_type": "stream",
     "text": [
      "54 SNPs selected\n",
      "\t 54 of the selected SNPs are in or near 38 candidate genes\n"
     ]
    }
   ],
   "source": [
    "selected_snps_2W = np.nonzero(model_l1_2W.best_estimator_.coef_)[0]\n",
    "print(\"%d SNPs selected\" % selected_snps_2W.shape)\n",
    "\n",
    "candidate_genes_hit = set([])\n",
    "num_snps_in_candidate_genes = 0\n",
    "for snp_idx in selected_snps_2W:\n",
    "    for gene_id in genes_by_snp[snp_names[snp_idx]]:\n",
    "        if gene_id in candidate_genes:\n",
    "            candidate_genes_hit.add(gene_id)\n",
    "            num_snps_in_candidate_genes += 1\n",
    "            break\n",
    "\n",
    "print(\"\\t %d of the selected SNPs are in or near %d candidate genes\" % (num_snps_in_candidate_genes, \n",
    "                                                                     len(candidate_genes_hit)))"
   ]
  },
  {
   "cell_type": "code",
   "execution_count": 31,
   "id": "aeab91c9-642f-43b7-87b5-dad62d168311",
   "metadata": {},
   "outputs": [],
   "source": [
    "from sklearn import metrics"
   ]
  },
  {
   "cell_type": "code",
   "execution_count": 32,
   "id": "0ba4d5ed-6b1e-419b-8f60-f6263d016f4e",
   "metadata": {},
   "outputs": [
    {
     "name": "stdout",
     "output_type": "stream",
     "text": [
      "Percentage of variance explained (using 54 SNPs): 0.10\n"
     ]
    }
   ],
   "source": [
    "y_2W_l1_pred = model_l1_2W.best_estimator_.predict(X_both_te)\n",
    "\n",
    "print(\"Percentage of variance explained (using %d SNPs): %.2f\" % \\\n",
    "     (np.nonzero(model_l1_2W.best_estimator_.coef_)[0].shape[0], \n",
    "      metrics.explained_variance_score(y_both_te[:, 0], y_2W_l1_pred)))"
   ]
  },
  {
   "cell_type": "code",
   "execution_count": 33,
   "id": "be434712-99a9-4451-b775-8a7d816041cb",
   "metadata": {},
   "outputs": [
    {
     "data": {
      "text/plain": [
       "<matplotlib.lines._AxLine at 0x7fd30a9f2a00>"
      ]
     },
     "execution_count": 33,
     "metadata": {},
     "output_type": "execute_result"
    },
    {
     "data": {
      "image/png": "[encoded data removed]",
      "text/plain": [
       "<Figure size 288x288 with 1 Axes>"
      ]
     },
     "metadata": {
      "needs_background": "light"
     },
     "output_type": "display_data"
    }
   ],
   "source": [
    "plt.figure(figsize = (4, 4))\n",
    "plt.scatter(y_both_te[:, 0], y_2W_l1_pred)\n",
    "\n",
    "plt.xlabel(\"true phenotype\")\n",
    "plt.ylabel(\"prediction\")\n",
    "plt.title(\"2W\")\n",
    "plt.xlim([np.min(y_both_te[:, 0]) - 0.05, np.max(y_both_te[:, 0]) + 0.05])\n",
    "plt.ylim([np.min(y_both_te[:, 0]) - 0.05, np.max(y_both_te[:, 0]) + 0.05])\n",
    "plt.axline(xy1=[0, 0], slope=1, c=\"black\")"
   ]
  },
  {
   "cell_type": "markdown",
   "id": "b596e9ab-f7b9-4a3c-a515-cc234c685083",
   "metadata": {},
   "source": [
    "## Lasso on the 4W phenotype\n",
    "\n",
    "Let us see how well a Lasso model performs on the 4W phenotype."
   ]
  },
  {
   "cell_type": "code",
   "execution_count": 34,
   "id": "1b08432d-3ecf-490e-820b-70e9d01bdec5",
   "metadata": {},
   "outputs": [],
   "source": [
    "# # You can use the Lasso path to determine the most appropriate range of values for alpha\n",
    "# alphas_lasso_4W, coefs_lasso_4W, _ = linear_model.lasso_path(X_both_tr, y_both_tr[:, 1], eps=1e-2, n_alphas=30, fit_intercept=True)\n",
    "# alphas_lasso_4W"
   ]
  },
  {
   "cell_type": "code",
   "execution_count": 35,
   "id": "72c62493-430e-4bd0-858f-5cfdcb7f0135",
   "metadata": {},
   "outputs": [],
   "source": [
    "lasso = linear_model.Lasso(fit_intercept=True, max_iter=6000)"
   ]
  },
  {
   "cell_type": "code",
   "execution_count": 36,
   "id": "220950f6-1018-425a-bc1b-cf057267a9e9",
   "metadata": {},
   "outputs": [
    {
     "name": "stdout",
     "output_type": "stream",
     "text": [
      "Fitting 5 folds for each of 20 candidates, totalling 100 fits\n"
     ]
    },
    {
     "data": {
      "text/plain": [
       "GridSearchCV(estimator=Lasso(max_iter=6000),\n",
       "             param_grid={'alpha': array([ 0.01      ,  0.0143845 ,  0.02069138,  0.02976351,  0.04281332,\n",
       "        0.06158482,  0.08858668,  0.1274275 ,  0.18329807,  0.26366509,\n",
       "        0.37926902,  0.54555948,  0.78475997,  1.12883789,  1.62377674,\n",
       "        2.33572147,  3.35981829,  4.83293024,  6.95192796, 10.        ])},\n",
       "             scoring='explained_variance', verbose=1)"
      ]
     },
     "execution_count": 36,
     "metadata": {},
     "output_type": "execute_result"
    }
   ],
   "source": [
    "alphas = np.logspace(-2., 1., num=20)\n",
    "model_l1_4W = model_selection.GridSearchCV(lasso, param_grid = {'alpha': alphas}, \n",
    "                                        scoring='explained_variance', verbose=1)\n",
    "model_l1_4W.fit(X_both_tr, y_both_tr[:, 1])"
   ]
  },
  {
   "cell_type": "code",
   "execution_count": 37,
   "id": "f2a77324-d93c-40d3-ae60-66d68f8e46d7",
   "metadata": {},
   "outputs": [
    {
     "data": {
      "text/plain": [
       "{'alpha': 0.26366508987303583}"
      ]
     },
     "execution_count": 37,
     "metadata": {},
     "output_type": "execute_result"
    }
   ],
   "source": [
    "model_l1_4W.best_params_"
   ]
  },
  {
   "cell_type": "code",
   "execution_count": 38,
   "id": "0b426924-0e03-4288-a9a5-5ae4d78cf812",
   "metadata": {},
   "outputs": [
    {
     "data": {
      "text/plain": [
       "(0.0, 9419.0)"
      ]
     },
     "execution_count": 38,
     "metadata": {},
     "output_type": "execute_result"
    },
    {
     "data": {
      "image/png": "[encoded data removed]",
      "text/plain": [
       "<Figure size 432x288 with 1 Axes>"
      ]
     },
     "metadata": {
      "needs_background": "light"
     },
     "output_type": "display_data"
    }
   ],
   "source": [
    "plt.figure(figsize = (6, 4))\n",
    "plt.scatter(range(p), # x = SNP position\n",
    "            model_l1_4W.best_estimator_.coef_)  # y = regression weights\n",
    "\n",
    "plt.xlabel(\"SNPs\")\n",
    "plt.ylabel(\"Regression weights\")\n",
    "plt.title(\"Lasso on the 4W phenotype\")\n",
    "plt.xlim([0, p])"
   ]
  },
  {
   "cell_type": "code",
   "execution_count": 39,
   "id": "37529f8b-7104-4222-8b64-69586db8cce3",
   "metadata": {},
   "outputs": [
    {
     "name": "stdout",
     "output_type": "stream",
     "text": [
      "89 SNPs selected\n",
      "\t 89 of the selected SNPs are in or near 62 candidate genes\n"
     ]
    }
   ],
   "source": [
    "selected_snps_4W = np.nonzero(model_l1_4W.best_estimator_.coef_)[0]\n",
    "print(\"%d SNPs selected\" % selected_snps_4W.shape)\n",
    "\n",
    "candidate_genes_hit = set([])\n",
    "num_snps_in_candidate_genes = 0\n",
    "for snp_idx in selected_snps_4W:\n",
    "    for gene_id in genes_by_snp[snp_names[snp_idx]]:\n",
    "        if gene_id in candidate_genes:\n",
    "            candidate_genes_hit.add(gene_id)\n",
    "            num_snps_in_candidate_genes += 1\n",
    "            break\n",
    "\n",
    "print(\"\\t %d of the selected SNPs are in or near %d candidate genes\" % (num_snps_in_candidate_genes, \n",
    "                                                                     len(candidate_genes_hit)))"
   ]
  },
  {
   "cell_type": "code",
   "execution_count": 40,
   "id": "8762e293-7596-40ac-8fcc-7c50df6695c0",
   "metadata": {},
   "outputs": [
    {
     "name": "stdout",
     "output_type": "stream",
     "text": [
      "Percentage of variance explained (using 89 SNPs): -0.03\n"
     ]
    }
   ],
   "source": [
    "y_4W_l1_pred = model_l1_4W.best_estimator_.predict(X_both_te)\n",
    "\n",
    "print(\"Percentage of variance explained (using %d SNPs): %.2f\" % \\\n",
    "     (np.nonzero(model_l1_4W.best_estimator_.coef_)[0].shape[0], \n",
    "      metrics.explained_variance_score(y_both_te[:, 1], y_4W_l1_pred)))"
   ]
  },
  {
   "cell_type": "code",
   "execution_count": 41,
   "id": "3d292f00-039e-44d1-944b-9b6ca4379116",
   "metadata": {},
   "outputs": [
    {
     "data": {
      "text/plain": [
       "<matplotlib.lines._AxLine at 0x7fd30a9277f0>"
      ]
     },
     "execution_count": 41,
     "metadata": {},
     "output_type": "execute_result"
    },
    {
     "data": {
      "image/png": "[encoded data removed]",
      "text/plain": [
       "<Figure size 288x288 with 1 Axes>"
      ]
     },
     "metadata": {
      "needs_background": "light"
     },
     "output_type": "display_data"
    }
   ],
   "source": [
    "plt.figure(figsize = (4, 4))\n",
    "plt.scatter(y_both_te[:, 1], y_4W_l1_pred)\n",
    "\n",
    "plt.xlabel(\"true phenotype\")\n",
    "plt.ylabel(\"prediction\")\n",
    "plt.title(\"4W\")\n",
    "plt.xlim([np.min(y_both_te[:, 1]) - 0.05, np.max(y_both_te[:, 1]) + 0.05])\n",
    "plt.ylim([np.min(y_both_te[:, 1]) - 0.05, np.max(y_both_te[:, 1]) + 0.05])\n",
    "plt.axline(xy1=[0, 0], slope=1, c=\"black\")"
   ]
  },
  {
   "cell_type": "markdown",
   "id": "df484816-f95a-421b-bd33-4839a4f784cf",
   "metadata": {},
   "source": [
    "## Multitask lasso"
   ]
  },
  {
   "cell_type": "markdown",
   "id": "c2e15013-ffb5-4dd6-b03e-1996f9571d9d",
   "metadata": {},
   "source": [
    "We can now cross-validate a multitask Lasso on the data training data."
   ]
  },
  {
   "cell_type": "code",
   "execution_count": 43,
   "id": "475c5d43-c9db-4f5f-abf8-02cc967f003e",
   "metadata": {},
   "outputs": [
    {
     "name": "stdout",
     "output_type": "stream",
     "text": [
      "Fitting 5 folds for each of 10 candidates, totalling 50 fits\n",
      "[CV] END ........................................alpha=0.001; total time=   6.4s\n",
      "[CV] END ........................................alpha=0.001; total time=   7.7s\n",
      "[CV] END ........................................alpha=0.001; total time=   7.3s\n",
      "[CV] END ........................................alpha=0.001; total time=   7.7s\n",
      "[CV] END ........................................alpha=0.001; total time=   7.5s\n",
      "[CV] END ........................alpha=0.0027825594022071257; total time=   7.3s\n",
      "[CV] END ........................alpha=0.0027825594022071257; total time=   8.0s\n",
      "[CV] END ........................alpha=0.0027825594022071257; total time=   7.4s\n",
      "[CV] END ........................alpha=0.0027825594022071257; total time=   6.6s\n",
      "[CV] END ........................alpha=0.0027825594022071257; total time=   6.3s\n",
      "[CV] END .........................alpha=0.007742636826811269; total time=   6.4s\n",
      "[CV] END .........................alpha=0.007742636826811269; total time=   3.4s\n",
      "[CV] END .........................alpha=0.007742636826811269; total time=   3.9s\n",
      "[CV] END .........................alpha=0.007742636826811269; total time=   3.7s\n",
      "[CV] END .........................alpha=0.007742636826811269; total time=   5.9s\n",
      "[CV] END .........................alpha=0.021544346900318832; total time=   2.9s\n",
      "[CV] END .........................alpha=0.021544346900318832; total time=   2.3s\n",
      "[CV] END .........................alpha=0.021544346900318832; total time=   2.2s\n",
      "[CV] END .........................alpha=0.021544346900318832; total time=   2.1s\n",
      "[CV] END .........................alpha=0.021544346900318832; total time=   2.2s\n",
      "[CV] END ..........................alpha=0.05994842503189409; total time=   1.5s\n",
      "[CV] END ..........................alpha=0.05994842503189409; total time=   1.5s\n",
      "[CV] END ..........................alpha=0.05994842503189409; total time=   1.3s\n",
      "[CV] END ..........................alpha=0.05994842503189409; total time=   1.3s\n",
      "[CV] END ..........................alpha=0.05994842503189409; total time=   2.9s\n",
      "[CV] END ...........................alpha=0.1668100537200059; total time=   0.9s\n",
      "[CV] END ...........................alpha=0.1668100537200059; total time=   1.0s\n",
      "[CV] END ...........................alpha=0.1668100537200059; total time=   0.7s\n",
      "[CV] END ...........................alpha=0.1668100537200059; total time=   0.9s\n",
      "[CV] END ...........................alpha=0.1668100537200059; total time=   0.9s\n",
      "[CV] END ..........................alpha=0.46415888336127775; total time=   0.4s\n",
      "[CV] END ..........................alpha=0.46415888336127775; total time=   0.3s\n",
      "[CV] END ..........................alpha=0.46415888336127775; total time=   0.4s\n",
      "[CV] END ..........................alpha=0.46415888336127775; total time=   0.4s\n",
      "[CV] END ..........................alpha=0.46415888336127775; total time=   0.4s\n",
      "[CV] END ...........................alpha=1.2915496650148828; total time=   0.2s\n",
      "[CV] END ...........................alpha=1.2915496650148828; total time=   0.2s\n",
      "[CV] END ...........................alpha=1.2915496650148828; total time=   0.2s\n",
      "[CV] END ...........................alpha=1.2915496650148828; total time=   0.2s\n",
      "[CV] END ...........................alpha=1.2915496650148828; total time=   0.3s\n",
      "[CV] END ............................alpha=3.593813663804626; total time=   0.1s\n",
      "[CV] END ............................alpha=3.593813663804626; total time=   0.1s\n",
      "[CV] END ............................alpha=3.593813663804626; total time=   0.1s\n",
      "[CV] END ............................alpha=3.593813663804626; total time=   0.1s\n",
      "[CV] END ............................alpha=3.593813663804626; total time=   0.1s\n",
      "[CV] END .........................................alpha=10.0; total time=   0.0s\n",
      "[CV] END .........................................alpha=10.0; total time=   0.0s\n",
      "[CV] END .........................................alpha=10.0; total time=   0.0s\n",
      "[CV] END .........................................alpha=10.0; total time=   0.0s\n",
      "[CV] END .........................................alpha=10.0; total time=   0.0s\n"
     ]
    },
    {
     "data": {
      "text/plain": [
       "GridSearchCV(estimator=MultiTaskLasso(max_iter=6000),\n",
       "             param_grid={'alpha': array([1.00000000e-03, 2.78255940e-03, 7.74263683e-03, 2.15443469e-02,\n",
       "       5.99484250e-02, 1.66810054e-01, 4.64158883e-01, 1.29154967e+00,\n",
       "       3.59381366e+00, 1.00000000e+01])},\n",
       "             verbose=2)"
      ]
     },
     "execution_count": 43,
     "metadata": {},
     "output_type": "execute_result"
    }
   ],
   "source": [
    "mt_l1 = linear_model.MultiTaskLasso(fit_intercept=True, max_iter=6000)\n",
    "alphas = np.logspace(-3., 1, num=10)\n",
    "model_mt_l1 = model_selection.GridSearchCV(mt_l1,\n",
    "                                          param_grid = {'alpha': alphas}, verbose=2)\n",
    "\n",
    "model_mt_l1.fit(X_both_tr, y_both_tr)"
   ]
  },
  {
   "cell_type": "code",
   "execution_count": null,
   "id": "ae390267-2931-4186-a312-ce0ac39cf367",
   "metadata": {},
   "outputs": [],
   "source": [
    "model_mt_l1.best_params_"
   ]
  },
  {
   "cell_type": "code",
   "execution_count": null,
   "id": "50ea1f92-f10c-458a-abb6-601190fb36ef",
   "metadata": {},
   "outputs": [],
   "source": [
    "plt.figure(figsize = (8, 5))\n",
    "#plt.spy(ml_lasso_cv.best_estimator_.coef_)\n",
    "plt.scatter(range(p), model_mt_l1.best_estimator_.coef_[0, :], alpha=0.7, label=\"2W\")\n",
    "plt.scatter(range(p), model_mt_l1.best_estimator_.coef_[1, :], alpha=0.7, label=\"4W\")\n",
    "\n",
    "plt.xlabel(\"features\")\n",
    "plt.ylabel(\"MTLasso regression weights\")\n",
    "plt.xlim([0, p])\n",
    "plt.legend()"
   ]
  },
  {
   "cell_type": "code",
   "execution_count": null,
   "id": "3de75fe2-8a9d-4923-b2ca-976630fb5386",
   "metadata": {},
   "outputs": [],
   "source": [
    "selected_snps_mt_l1_2W = np.nonzero(model_mt_l1.best_estimator_.coef_[0, :])[0]\n",
    "print(\"%d SNPs selected for 2W,\" % selected_snps_mt_l1_2W.shape)\n",
    "\n",
    "candidate_genes_hit = set([])\n",
    "num_snps_in_candidate_genes = 0\n",
    "for snp_idx in selected_snps_mt_l1_2W:\n",
    "    for gene_id in genes_by_snp[snp_names[snp_idx]]:\n",
    "        if gene_id in candidate_genes:\n",
    "            candidate_genes_hit.add(gene_id)\n",
    "            num_snps_in_candidate_genes += 1\n",
    "            break\n",
    "\n",
    "print(\"\\t of which %d are in/near %d candidate genes\" % (num_snps_in_candidate_genes, \n",
    "                                                          len(candidate_genes_hit)))"
   ]
  },
  {
   "cell_type": "code",
   "execution_count": null,
   "id": "1c4ee723-6f97-4573-b75a-f6aeedc4b674",
   "metadata": {},
   "outputs": [],
   "source": [
    "selected_snps_mt_l1_4W = np.nonzero(model_mt_l1.best_estimator_.coef_[1, :])[0]\n",
    "print(\"%d SNPs selected for 4W,\" % selected_snps_mt_l1_4W.shape)\n",
    "\n",
    "candidate_genes_hit = set([])\n",
    "num_snps_in_candidate_genes = 0\n",
    "for snp_idx in selected_snps_mt_l1_4W:\n",
    "    for gene_id in genes_by_snp[snp_names[snp_idx]]:\n",
    "        if gene_id in candidate_genes:\n",
    "            candidate_genes_hit.add(gene_id)\n",
    "            num_snps_in_candidate_genes += 1\n",
    "            break\n",
    "\n",
    "print(\"\\t of which %d are in/near %d candidate genes\" % (num_snps_in_candidate_genes, \n",
    "                                                          len(candidate_genes_hit)))"
   ]
  },
  {
   "cell_type": "code",
   "execution_count": null,
   "id": "295bf1c2-df67-496b-a6be-ee55840aa007",
   "metadata": {},
   "outputs": [],
   "source": [
    "y_l1_mt_pred = model_mt_l1.best_estimator_.predict(X_both_te)\n",
    "\n",
    "print(\"Percentage of variance explained for 2W (using %d SNPs): %.2f\" % \\\n",
    "     (np.nonzero(model_mt_l1.best_estimator_.coef_[1, :])[0].shape[0], \n",
    "      metrics.explained_variance_score(y_both_te[:, 0], y_l1_mt_pred[:, 0])))\n",
    "\n",
    "print(\"Percentage of variance explained for 4W (using %d SNPs): %.2f\" % \\\n",
    "     (np.nonzero(model_mt_l1.best_estimator_.coef_[0, :])[0].shape[0], \n",
    "      metrics.explained_variance_score(y_both_te[:, 1], y_l1_mt_pred[:, 1])))"
   ]
  },
  {
   "cell_type": "code",
   "execution_count": null,
   "id": "f3a4983a-7ef1-4846-8081-bb09f66f9a26",
   "metadata": {},
   "outputs": [],
   "source": [
    "plt.figure(figsize = (4, 4))\n",
    "plt.scatter(y_both_te[:, 0], y_l1_mt_pred[:, 0], alpha=0.7, label=\"2W\")\n",
    "plt.scatter(y_both_te[:, 1], y_l1_mt_pred[:, 1], alpha=0.7, label=\"4W\")\n",
    "\n",
    "plt.xlabel(\"true phenotype\")\n",
    "plt.ylabel(\"prediction\")\n",
    "plt.title(\"Multitask\")\n",
    "plt.xlim([np.min(y_both_te) - 0.05, np.max(y_both_te) + 0.05])\n",
    "plt.ylim([np.min(y_both_te) - 0.05, np.max(y_both_te) + 0.05])\n",
    "plt.axline(xy1=[0, 0], slope=1, c=\"black\")"
   ]
  },
  {
   "cell_type": "markdown",
   "id": "ddd27ac7-dfe8-463e-96e2-ea428a0804ae",
   "metadata": {},
   "source": [
    "Note that what we lost in predictive ability from having fewer samples is not compensated by the multitask here."
   ]
  },
  {
   "cell_type": "markdown",
   "id": "95c45d49-4ef8-4f38-be97-b01aadf9958c",
   "metadata": {},
   "source": [
    "## Multitask elastic-net\n",
    "See the [user guide](https://scikit-learn.org/stable/modules/linear_model.html#multi-task-elastic-net) and [API](https://scikit-learn.org/stable/modules/generated/sklearn.linear_model.MultiTaskElasticNet.html#sklearn.linear_model.MultiTaskElasticNet)."
   ]
  },
  {
   "cell_type": "markdown",
   "id": "b42ec9b0-f475-48d8-8eac-918fa612e657",
   "metadata": {},
   "source": [
    "__Q: Do the same as before, but with (multi-task) elastic net instead!__"
   ]
  }
 ],
 "metadata": {
  "kernelspec": {
   "display_name": "Python 3",
   "language": "python",
   "name": "python3"
  },
  "language_info": {
   "codemirror_mode": {
    "name": "ipython",
    "version": 3
   },
   "file_extension": ".py",
   "mimetype": "text/x-python",
   "name": "python",
   "nbconvert_exporter": "python",
   "pygments_lexer": "ipython3",
   "version": "3.9.4"
  }
 },
 "nbformat": 4,
 "nbformat_minor": 5
}
