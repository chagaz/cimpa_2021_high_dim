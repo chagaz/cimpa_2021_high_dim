{
 "cells": [
  {
   "cell_type": "markdown",
   "id": "81dab059-08cd-495a-ab97-8534eaaf972c",
   "metadata": {},
   "source": [
    "# Feature selection in high-dimensional genetic data\n",
    "\n",
    "# Notebook 2: Linear regression, Lasso and Elastic Net"
   ]
  },
  {
   "cell_type": "markdown",
   "id": "539da3d2-861a-4563-b359-5d8028149c4d",
   "metadata": {},
   "source": [
    "## Introduction\n",
    "\n",
    "We keep on working with our _Arabidopsis thaliana_ data. We will now use various linear models to predict the phenotype from the genotype.\n",
    "\n",
    "We start by reloading the same libraries and data as in Notebook 1, using the same code."
   ]
  },
  {
   "cell_type": "code",
   "execution_count": null,
   "id": "49fd058e-ef5c-482b-94c3-66df3e912091",
   "metadata": {},
   "outputs": [],
   "source": [
    "%pylab inline \n",
    "# imports matplotlib as plt and numpy as np"
   ]
  },
  {
   "cell_type": "code",
   "execution_count": null,
   "id": "cb04ef1a-9972-4188-8246-d5a42b4172cb",
   "metadata": {},
   "outputs": [],
   "source": [
    "plt.rc('font', **{'size': 14}) # font size for text on plots"
   ]
  },
  {
   "cell_type": "code",
   "execution_count": null,
   "id": "8bacdfce-29fb-48b4-a81e-177d40257133",
   "metadata": {},
   "outputs": [],
   "source": [
    "import pandas as pd"
   ]
  },
  {
   "cell_type": "code",
   "execution_count": null,
   "id": "ac4c0cdc-fbae-4b57-8f86-dd146f4cbf19",
   "metadata": {},
   "outputs": [],
   "source": [
    "# Loading the SNP names\n",
    "with open('data/athaliana_small.snps.txt') as f:\n",
    "    snp_names = f.readline().split()\n",
    "    f.close()\n",
    "print(len(snp_names))"
   ]
  },
  {
   "cell_type": "code",
   "execution_count": null,
   "id": "4dbbd5f8-275a-4408-a5dd-fb8b9adbb719",
   "metadata": {},
   "outputs": [],
   "source": [
    "# Loading the design matrix -- this can take time!\n",
    "X = np.loadtxt('data/athaliana_small.X.txt',  # file names\n",
    "               dtype = 'int') # values are integers\n",
    "p = X.shape[1]"
   ]
  },
  {
   "cell_type": "code",
   "execution_count": null,
   "id": "38c6f56f-0e02-4bf7-b722-3d454b4c9c6a",
   "metadata": {},
   "outputs": [],
   "source": [
    "# Loading the samples\n",
    "samples = list(np.loadtxt('data/athaliana.samples.txt', # file names\n",
    "                         dtype=int)) # values are integers"
   ]
  },
  {
   "cell_type": "code",
   "execution_count": null,
   "id": "8b964cc1-7de3-4a59-a51c-c19e49b08b2f",
   "metadata": {},
   "outputs": [],
   "source": [
    "# Loading the phenotypes\n",
    "df = pd.read_csv('data/athaliana.2W.pheno', # file name\n",
    "                 header=None, # columns have no header\n",
    "                 delim_whitespace=True) # columns are separated by white space"
   ]
  },
  {
   "cell_type": "code",
   "execution_count": null,
   "id": "0240332d-feca-4b70-adea-ef5680467a0d",
   "metadata": {},
   "outputs": [],
   "source": [
    "# Loading the phenotypes\n",
    "df_2W = pd.read_csv('data/athaliana.2W.pheno', # file name\n",
    "                 header=None, # columns have no header\n",
    "                 delim_whitespace=True, # columns are separated by white space\n",
    "                 index_col=0) # read the first column as index\n",
    "\n",
    "# Create vector of sample IDs\n",
    "samples_with_phenotype_2W = list(df_2W.index)\n",
    "print(len(samples_with_phenotype_2W), \"samples have a 2W phenotype\")\n",
    "\n",
    "# Create vector of phenotypes\n",
    "y_2W = df_2W[1].to_numpy()\n",
    "\n",
    "# Restricting the design matrix to those samples who have a 2W phenotype\n",
    "X_2W = X[np.array([samples.index(sample_id) \\\n",
    "                   for sample_id in samples_with_phenotype_2W]), :]\n",
    "\n",
    "# Delete X to free space\n",
    "del X"
   ]
  },
  {
   "cell_type": "code",
   "execution_count": null,
   "id": "26fc0c0c-23f7-48dc-9897-b6b452d854d8",
   "metadata": {},
   "outputs": [],
   "source": [
    "# Loading the list of candidate genes\n",
    "with open('data/athaliana.candidates.txt') as f:\n",
    "    candidate_genes = f.readline().split()\n",
    "    f.close()"
   ]
  },
  {
   "cell_type": "code",
   "execution_count": null,
   "id": "9fcd062b-3cb0-4303-927f-61efa00e318b",
   "metadata": {},
   "outputs": [],
   "source": [
    "# Loading the SNPs-to-gene mapping\n",
    "genes_by_snp = {} # key: SNP, value = [genes in/near which this SNP is]\n",
    "with open('data/athaliana.snps_by_gene.txt') as f:\n",
    "    for line in f:\n",
    "        ls = line.split()\n",
    "        gene_id = ls[0]\n",
    "        for snp_id in ls[1:]:\n",
    "            if not snp_id in genes_by_snp:\n",
    "                genes_by_snp[snp_id] = []\n",
    "            genes_by_snp[snp_id].append(gene_id) "
   ]
  },
  {
   "cell_type": "code",
   "execution_count": null,
   "id": "dff52ad2-501b-48cc-bb55-0aabd41cdd85",
   "metadata": {},
   "outputs": [],
   "source": [
    "# Splitting the data into a train and test set\n",
    "from sklearn import model_selection\n",
    "\n",
    "X_2W_tr, X_2W_te, y_2W_tr, y_2W_te = \\\n",
    "    model_selection.train_test_split(X_2W, y_2W, test_size=0.2, \n",
    "                                     random_state=17) # use the same random_state as in Notebook 1 to obtain the same split\n",
    "print(X_2W_tr.shape, X_2W_te.shape)"
   ]
  },
  {
   "cell_type": "markdown",
   "id": "d1e7edbf-f278-4296-9716-d0aabfd60768",
   "metadata": {},
   "source": [
    "## Linear regression "
   ]
  },
  {
   "cell_type": "markdown",
   "id": "72795eb6-80e0-4ba8-bafe-5e5f1f041b48",
   "metadata": {},
   "source": [
    "### Fitting a linear regression to the training set"
   ]
  },
  {
   "cell_type": "code",
   "execution_count": null,
   "id": "c36c6303-7b87-4f63-8850-c87dea2bd6c3",
   "metadata": {},
   "outputs": [],
   "source": [
    "from sklearn import linear_model"
   ]
  },
  {
   "cell_type": "code",
   "execution_count": null,
   "id": "7a2ac752-fabf-4013-9b95-1008a7892832",
   "metadata": {},
   "outputs": [],
   "source": [
    "model_lr = linear_model.LinearRegression(fit_intercept = True)\n",
    "model_lr.fit(X_2W_tr, y_2W_tr)"
   ]
  },
  {
   "cell_type": "markdown",
   "id": "3aacb377-c02d-43db-b85e-b2a587bd7f8f",
   "metadata": {},
   "source": [
    "We can now visualize the regression weights we have learned"
   ]
  },
  {
   "cell_type": "code",
   "execution_count": null,
   "id": "42d6c319-a738-4a35-8de1-04fd9060d030",
   "metadata": {},
   "outputs": [],
   "source": [
    "plt.figure(figsize = (12, 5))\n",
    "plt.scatter(range(p), # x = SNP position\n",
    "            model_lr.coef_, # y = regression weights\n",
    "            s = 10)  # point size\n",
    "\n",
    "plt.xlabel(\"SNP\")\n",
    "plt.ylabel(\"regression weight\")\n",
    "plt.xlim([0, p])"
   ]
  },
  {
   "cell_type": "markdown",
   "id": "087440fb-45b2-4c4d-9929-1cb5bde57af0",
   "metadata": {},
   "source": [
    "__Q: What do you observe? How can you interpret these results? Do any of the SNPs strike you as having a strong influence on the phenotype?__"
   ]
  },
  {
   "cell_type": "code",
   "execution_count": null,
   "id": "d5ec8346-2d9e-4eea-93ee-1b9f325b5a1c",
   "metadata": {},
   "outputs": [],
   "source": []
  },
  {
   "cell_type": "markdown",
   "id": "64ec6d9f-6e0d-4448-93aa-f12f5a24513c",
   "metadata": {},
   "source": [
    "The following SNPs are the ones with the ten highest weights (in absolute value). They are all near candidate genes."
   ]
  },
  {
   "cell_type": "code",
   "execution_count": null,
   "id": "6e5389f0-3aaa-47e6-ada1-013c61dc0dbc",
   "metadata": {},
   "outputs": [],
   "source": [
    "highest_weights = np.abs(model_lr.coef_)\n",
    "highest_weights.sort()\n",
    "highest_weights = highest_weights[-10:]\n",
    "\n",
    "for w in highest_weights:\n",
    "    for snp_idx in np.where(model_lr.coef_ == w)[0]:\n",
    "        print(w, snp_names[snp_idx])\n",
    "        for gene_id in genes_by_snp[snp_names[snp_idx]]:\n",
    "            if gene_id in candidate_genes:\n",
    "                print(\"\\t in/near candidate gene %s\" % gene_id)"
   ]
  },
  {
   "cell_type": "markdown",
   "id": "c1566808-8dc0-4404-a4a7-4697d9e03a90",
   "metadata": {},
   "source": [
    "### Predictive power"
   ]
  },
  {
   "cell_type": "markdown",
   "id": "46348279-b1bd-4e8d-9355-7f309d6cb00e",
   "metadata": {},
   "source": [
    "In this section, we measure the performance of our model on the test dataset."
   ]
  },
  {
   "cell_type": "markdown",
   "id": "63971e48-55ac-4241-bb7b-50e7d1617060",
   "metadata": {},
   "source": [
    "We will now look at the predictive power of the lasso estimated model."
   ]
  },
  {
   "cell_type": "markdown",
   "id": "82503531-f98f-4651-92b8-9c8725c830c4",
   "metadata": {},
   "source": [
    "__Q: What is the definition of the variance explained? You may use the [scikit learn documentation](https://sklearn.org/modules/classes.html#sklearn-metrics-metrics). What values can this metric take? and to what cases do the extreme values correspond to?__"
   ]
  },
  {
   "cell_type": "code",
   "execution_count": null,
   "id": "d37af096-b580-4633-8142-6a2cc157bdb1",
   "metadata": {},
   "outputs": [],
   "source": [
    "from sklearn import metrics"
   ]
  },
  {
   "cell_type": "code",
   "execution_count": null,
   "id": "95384882-9506-4924-b245-2195e7ad0c62",
   "metadata": {},
   "outputs": [],
   "source": [
    "y_2W_lr_pred = model_lr.predict(X_2W_te)\n",
    "\n",
    "print(\"Percentage of variance explained (using all SNPs): %.2f\" % \\\n",
    "    metrics.explained_variance_score(y_2W_te, y_2W_lr_pred))"
   ]
  },
  {
   "cell_type": "code",
   "execution_count": null,
   "id": "9462ac57-3a83-43bd-9bf1-1f5ce7585efb",
   "metadata": {},
   "outputs": [],
   "source": [
    "plt.figure(figsize = (5, 5))\n",
    "plt.scatter(y_2W_te, y_2W_lr_pred)\n",
    "\n",
    "plt.xlabel(\"true phenotype\")\n",
    "plt.ylabel(\"prediction\")\n",
    "plt.xlim([np.min(y_2W_te) - 5, np.max(y_2W_te) + 5])\n",
    "plt.ylim([np.min(y_2W_te) - 5, np.max(y_2W_te) + 5])\n",
    "\n",
    "plt.plot([np.min(y_2W_te)-5, np.max(y_2W_te)+5], \n",
    "         [np.min(y_2W_te)-5, np.max(y_2W_te)]+5, c=\"black\")"
   ]
  },
  {
   "cell_type": "markdown",
   "id": "b8cf5d1d-4a85-4186-92a5-7f1692bb53f1",
   "metadata": {},
   "source": [
    "## Lasso\n",
    "Under the hypothesis that not all SNPs are involved in the phenotype, we will now attempt to learn a _sparse_ model, using a Lasso."
   ]
  },
  {
   "cell_type": "markdown",
   "id": "8cdcd7e2-8ebb-451e-aaf7-ca3414463257",
   "metadata": {},
   "source": [
    "### Fitting a lasso model"
   ]
  },
  {
   "cell_type": "markdown",
   "id": "d56445d6-49bb-4f00-9a45-acb9e9aeecc7",
   "metadata": {},
   "source": [
    "Define a lasso model"
   ]
  },
  {
   "cell_type": "code",
   "execution_count": null,
   "id": "d47c9f5c-9f29-4bd0-8229-0b1ea48ad557",
   "metadata": {},
   "outputs": [],
   "source": [
    "lasso = linear_model.Lasso(fit_intercept=True, max_iter=6000)"
   ]
  },
  {
   "cell_type": "markdown",
   "id": "1bb0a44b-7088-4c3f-99a9-48278f93a2e5",
   "metadata": {},
   "source": [
    "Define cross-validation grid search and learn lasso with cross-validation."
   ]
  },
  {
   "cell_type": "code",
   "execution_count": null,
   "id": "9fae0508-2ef7-4a1b-bba1-dcbadbfc80b7",
   "metadata": {},
   "outputs": [],
   "source": [
    "alphas = np.logspace(-3., 2., num=20)\n",
    "model_l1 = model_selection.GridSearchCV(lasso, param_grid = {'alpha': alphas}, \n",
    "                                        scoring='explained_variance', verbose=2)\n",
    "model_l1.fit(X_2W_tr, y_2W_tr)"
   ]
  },
  {
   "cell_type": "markdown",
   "id": "5ad6bf14-ba53-40c1-b75b-964b8cec2204",
   "metadata": {},
   "source": [
    "The best value of the regularization parameter is given by:"
   ]
  },
  {
   "cell_type": "code",
   "execution_count": null,
   "id": "5616ada1-05e1-44c2-8959-c28d0c0d6393",
   "metadata": {},
   "outputs": [],
   "source": [
    "model_l1.best_params_"
   ]
  },
  {
   "cell_type": "markdown",
   "id": "cd623550-7016-4ce6-858f-3236fc8a9fba",
   "metadata": {},
   "source": [
    "### Interpretation"
   ]
  },
  {
   "cell_type": "markdown",
   "id": "d31775e7-62b5-4fff-b8a2-1cbcf8537678",
   "metadata": {},
   "source": [
    "Let us now visualize the regression coefficients:"
   ]
  },
  {
   "cell_type": "code",
   "execution_count": null,
   "id": "09eead39-1729-4400-b55c-47a96160890e",
   "metadata": {},
   "outputs": [],
   "source": [
    "plt.figure(figsize = (6, 4))\n",
    "plt.scatter(range(p), # x = SNP position\n",
    "            model_l1.best_estimator_.coef_)  # y = regression weights\n",
    "\n",
    "plt.xlabel(\"SNP\")\n",
    "plt.ylabel(\"lasso regression weight\")\n",
    "plt.xlim([0, p])"
   ]
  },
  {
   "cell_type": "markdown",
   "id": "80faecc9-75d2-44dc-93d4-b84519e11bc6",
   "metadata": {},
   "source": [
    "We can now check how many of these SNPs have non-zero coefficients."
   ]
  },
  {
   "cell_type": "code",
   "execution_count": null,
   "id": "283743d1-cb8e-4be7-b27f-eaf3c1bfaf63",
   "metadata": {},
   "outputs": [],
   "source": [
    "selected_snps = np.nonzero(model_l1.best_estimator_.coef_)[0]\n",
    "print(\"%d SNPs selected\" % selected_snps.shape)"
   ]
  },
  {
   "cell_type": "markdown",
   "id": "889c5158-af38-4820-b130-e79663b3ebd1",
   "metadata": {},
   "source": [
    "__Q: How many SNPs are selected? How do you interpret this?__"
   ]
  },
  {
   "cell_type": "code",
   "execution_count": null,
   "id": "36ec325c-f7f3-4254-9336-950764d379b6",
   "metadata": {},
   "outputs": [],
   "source": []
  },
  {
   "cell_type": "markdown",
   "id": "02576dfb-58f6-40a2-85fc-0ed8bd05f1e8",
   "metadata": {},
   "source": [
    "We can now check whether those SNPs are in or near candidate genes, that is to say, genes that are known or strongly suspected to be involved in flowering time:"
   ]
  },
  {
   "cell_type": "code",
   "execution_count": null,
   "id": "d8d2d9d8-7caa-46f3-8f33-87cb809b011a",
   "metadata": {},
   "outputs": [],
   "source": [
    "candidate_genes_hit = set([])\n",
    "num_snps_in_candidate_genes = 0\n",
    "for snp_idx in selected_snps:\n",
    "    for gene_id in genes_by_snp[snp_names[snp_idx]]:\n",
    "        if gene_id in candidate_genes:\n",
    "            candidate_genes_hit.add(gene_id)\n",
    "            num_snps_in_candidate_genes += 1\n",
    "            break\n",
    "\n",
    "print(\"%d of the selected SNPs are in or near %d candidate genes\" % (num_snps_in_candidate_genes, \n",
    "                                                                     len(candidate_genes_hit)))"
   ]
  },
  {
   "cell_type": "markdown",
   "id": "8db200b7-b253-4799-95b5-e2879b264377",
   "metadata": {},
   "source": [
    "All selected SNPs are in or near candidate genes. The lasso selected biologically relevant SNPs!"
   ]
  },
  {
   "cell_type": "markdown",
   "id": "710f4cf0-9b3b-439c-bbd2-fee71bf8cca6",
   "metadata": {},
   "source": [
    "### Predictive power "
   ]
  },
  {
   "cell_type": "code",
   "execution_count": null,
   "id": "e5374158-eb20-447a-b423-830b6b0a1abf",
   "metadata": {},
   "outputs": [],
   "source": [
    "y_2W_l1_pred = model_l1.best_estimator_.predict(X_2W_te)\n",
    "\n",
    "print(\"Percentage of variance explained (using %d SNPs): %.2f\" % \\\n",
    "     (np.nonzero(model_l1.best_estimator_.coef_)[0].shape[0], \n",
    "      metrics.explained_variance_score(y_2W_te, y_2W_l1_pred)))"
   ]
  },
  {
   "cell_type": "markdown",
   "id": "a7951950-1767-4d5a-9b6f-39cab8c1aaf6",
   "metadata": {},
   "source": [
    "__Q: How does the lasso compare with the OLS (linear regression) in terms of variance explained? What is the advantage of the lasso model for generating biological hypotheses?__"
   ]
  },
  {
   "cell_type": "code",
   "execution_count": null,
   "id": "79b132c9-73d6-4a75-a7aa-f587f6fe0771",
   "metadata": {},
   "outputs": [],
   "source": []
  },
  {
   "cell_type": "markdown",
   "id": "b3dc6a15-23cc-442c-bec6-0713754a3ef1",
   "metadata": {},
   "source": [
    "Comparing true and predicted phenotypes"
   ]
  },
  {
   "cell_type": "code",
   "execution_count": null,
   "id": "7f7a5572-cb0d-4f95-820a-37a3861e52b4",
   "metadata": {},
   "outputs": [],
   "source": [
    "plt.figure(figsize = (5, 5))\n",
    "plt.scatter(y_2W_te, y_2W_l1_pred)\n",
    "\n",
    "plt.xlabel(\"true phenotype\")\n",
    "plt.ylabel(\"prediction\")\n",
    "plt.xlim([np.min(y_2W_te) - 5, np.max(y_2W_te) + 5])\n",
    "plt.ylim([np.min(y_2W_te) - 5, np.max(y_2W_te) + 5])\n",
    "\n",
    "plt.plot([np.min(y_2W_te)-5, np.max(y_2W_te)+5], \n",
    "         [np.min(y_2W_te)-5, np.max(y_2W_te)]+5, c=\"black\")"
   ]
  },
  {
   "cell_type": "markdown",
   "id": "3dc14ad9-7a31-45e0-af58-e30daa6c598d",
   "metadata": {},
   "source": [
    "## Elastic net\n",
    "\n",
    "One solution to make the lasso more stable is to use a combination of the l1 and l2 regularizations.\n",
    "\n",
    "We are now minimizing the loss + a linear combination of an l1-norm and an l2-norm over the regression weights. This imposes sparsity, but encourages correlated features to be selected together, where the lasso would tend to pick only one (at random) of a group of correlated features.\n",
    "\n",
    "The elastic net is implemented in scikit-learn's [linear_model.ElasticNet](http://scikit-learn.org/stable/modules/generated/sklearn.linear_model.ElasticNet.html#sklearn.linear_model.ElasticNet)."
   ]
  },
  {
   "cell_type": "markdown",
   "id": "baf1e9df-6c8b-43a8-b6f0-1b1de928cace",
   "metadata": {},
   "source": [
    "### Regularization path"
   ]
  },
  {
   "cell_type": "markdown",
   "id": "df20507b-c50e-48ac-bb4f-66e4ea16ce73",
   "metadata": {},
   "source": [
    "To better understand the difference between Lasso and Elastic net, we can start by visualizing the regularization path of a few variables for both models. To avoid looking at almost 10,000 paths (as many as SNPs), we'll only look at the paths for the features selected by the Lasso in the previous section (indexed by `selected_snps`).\n",
    "\n",
    "The regularization path of a variable shows how the regression coefficient of this variable evolves as a function of the regularization parameter.\n",
    "\n",
    "It can be computed with [linear_model.lasso_path](https://scikit-learn.org/stable/modules/generated/sklearn.linear_model.lasso_path.html) for the Lasso and [linear_model.enet_path](https://scikit-learn.org/stable/modules/generated/sklearn.linear_model.enet_path.html) for Elastic net. For the Elastic net, we're fixing `l1_ratio`."
   ]
  },
  {
   "cell_type": "code",
   "execution_count": null,
   "id": "4586d8ed-4a72-4971-9143-7ec37116f0b8",
   "metadata": {},
   "outputs": [],
   "source": [
    "from sklearn import linear_model"
   ]
  },
  {
   "cell_type": "code",
   "execution_count": null,
   "id": "2d16c039-3def-478f-816d-4a00ce09bdd9",
   "metadata": {},
   "outputs": [],
   "source": [
    "alphas_lasso, coefs_lasso, _ = linear_model.lasso_path(X_2W_tr[:, :], y_2W_tr, eps=1e-2, n_alphas=30, fit_intercept=True)"
   ]
  },
  {
   "cell_type": "code",
   "execution_count": null,
   "id": "5a619874-30da-4543-a5f9-3bc28122306f",
   "metadata": {},
   "outputs": [],
   "source": [
    "alphas_enet, coefs_enet, _ = linear_model.enet_path(X_2W_tr[:, :], y_2W_tr, eps=1e-2, n_alphas=30,  \n",
    "                                                    l1_ratio=0.8, fit_intercept=True)"
   ]
  },
  {
   "cell_type": "code",
   "execution_count": null,
   "id": "4204839f-92d2-4815-8604-961a13d45994",
   "metadata": {},
   "outputs": [],
   "source": [
    "from itertools import cycle\n",
    "import matplotlib.colors as mcolors"
   ]
  },
  {
   "cell_type": "code",
   "execution_count": null,
   "id": "6d105434-d6b1-4de1-93f4-e3219c20c846",
   "metadata": {},
   "outputs": [],
   "source": [
    "colors = cycle(list(mcolors.TABLEAU_COLORS.keys()))\n",
    "figure(figsize = (10, 6))\n",
    "neg_log_alphas_lasso = -np.log10(alphas_lasso)\n",
    "neg_log_alphas_enet = -np.log10(alphas_enet)\n",
    "\n",
    "for coef_l, coef_e, c in zip(coefs_lasso[selected_snps, :], coefs_enet[selected_snps, :], colors):\n",
    "    l1 = plt.plot(neg_log_alphas_lasso, coef_l, c = c)\n",
    "    l2 = plt.plot(neg_log_alphas_enet, coef_e, linestyle = '--', c = c)\n",
    "\n",
    "plt.xlabel('-Log(alpha)')\n",
    "plt.ylabel('coefficients')\n",
    "plt.title('Lasso and Elastic net regularization paths')\n",
    "plt.legend((l1[-1], l2[-1]), ('Lasso', 'Elastic-Net'), loc='lower left')\n",
    "plt.axis('tight')\n",
    "\n",
    "plt.show()"
   ]
  },
  {
   "cell_type": "markdown",
   "id": "0a3b7812-3c05-4f93-891a-940d46570a72",
   "metadata": {},
   "source": [
    "__Q: Compared to the lasso, what is the effect of the elastic-net on the coefficients?__"
   ]
  },
  {
   "cell_type": "code",
   "execution_count": null,
   "id": "795d17e2-a868-4f7c-bf0b-3a7c6d519f0e",
   "metadata": {},
   "outputs": [],
   "source": []
  },
  {
   "cell_type": "markdown",
   "id": "6ce7808e-fd4b-49cc-ae07-e76262d3f4dd",
   "metadata": {},
   "source": [
    "### Fitting an elastic-net"
   ]
  },
  {
   "cell_type": "code",
   "execution_count": null,
   "id": "a64a406e-5ecb-4e95-ba10-06dce25a094d",
   "metadata": {},
   "outputs": [],
   "source": [
    "# Parameters grid\n",
    "alphas = np.logspace(-0.01, 10., num=15)\n",
    "ratios = np.linspace(0.7, 1., num=4)"
   ]
  },
  {
   "cell_type": "markdown",
   "id": "de1e6983-bd1d-413e-97a8-b3c06da6161f",
   "metadata": {},
   "source": [
    "__Q: Define the elastic net model (call it `model_l1l2`) using the functions `ElasticNet` and `GridSearchCV`.__"
   ]
  },
  {
   "cell_type": "code",
   "execution_count": null,
   "id": "7dfcd237-ba24-41ff-a7de-26751bf219d6",
   "metadata": {},
   "outputs": [],
   "source": []
  },
  {
   "cell_type": "code",
   "execution_count": null,
   "id": "8f6a4c3f-5f3d-4cdf-88cd-71f081cb3174",
   "metadata": {},
   "outputs": [],
   "source": [
    "model_l1l2.best_params_"
   ]
  },
  {
   "cell_type": "markdown",
   "id": "cd63f307-98d1-4321-b761-58af01e545fe",
   "metadata": {},
   "source": [
    "### Interpretation"
   ]
  },
  {
   "cell_type": "code",
   "execution_count": null,
   "id": "11d0d330-8a88-4c41-b7d7-6221a0954cf2",
   "metadata": {},
   "outputs": [],
   "source": [
    "plt.figure(figsize = (6, 4))\n",
    "plt.scatter(range(p), # x = SNP position\n",
    "            model_l1l2.best_estimator_.coef_)  # y = regression weights\n",
    "\n",
    "plt.xlabel(\"SNP\")\n",
    "plt.ylabel(\"elastic net regression weight\")\n",
    "plt.xlim([0, p])"
   ]
  },
  {
   "cell_type": "code",
   "execution_count": null,
   "id": "cbd2a80b-b5a3-427e-86fb-4c7f03a3f143",
   "metadata": {},
   "outputs": [],
   "source": [
    "selected_snps_enet = np.nonzero(model_l1l2.best_estimator_.coef_)[0]\n",
    "print(\"%d SNPs selected,\" % selected_snps_enet.shape)\n",
    "\n",
    "candidate_genes_hit = set([])\n",
    "num_snps_in_candidate_genes = 0\n",
    "for snp_idx in selected_snps_enet:\n",
    "    for gene_id in genes_by_snp[snp_names[snp_idx]]:\n",
    "        if gene_id in candidate_genes:\n",
    "            candidate_genes_hit.add(gene_id)\n",
    "            num_snps_in_candidate_genes += 1\n",
    "            break\n",
    "\n",
    "print(\"of which %d are in %d candidate genes\" % (num_snps_in_candidate_genes, \n",
    "                                                          len(candidate_genes_hit)))"
   ]
  },
  {
   "cell_type": "markdown",
   "id": "9af6a780-c2a0-4819-8e13-71a2b35d79bc",
   "metadata": {},
   "source": [
    "__Q: How can you interpret these results? How many SNPs contribute to explaining the phenotype?__"
   ]
  },
  {
   "cell_type": "code",
   "execution_count": null,
   "id": "fa1c6025-6376-46b6-8499-197cc135e380",
   "metadata": {},
   "outputs": [],
   "source": []
  },
  {
   "cell_type": "markdown",
   "id": "dda87405-fed9-41ad-81cd-9ce2fe66fd4a",
   "metadata": {},
   "source": [
    "### Predictive power "
   ]
  },
  {
   "cell_type": "code",
   "execution_count": null,
   "id": "133333eb-0c97-4312-a48e-c37cb946b258",
   "metadata": {},
   "outputs": [],
   "source": [
    "from sklearn import metrics"
   ]
  },
  {
   "cell_type": "code",
   "execution_count": null,
   "id": "e07dc514-0f07-4f83-96f2-16958b175df9",
   "metadata": {},
   "outputs": [],
   "source": [
    "y_2W_l1l2_pred = model_l1l2.best_estimator_.predict(X_2W_te)\n",
    "\n",
    "print(\"Percentage of variance explained (using %d SNPs): %.2f\" % \\\n",
    "      (selected_snps_enet.shape[0], \n",
    "      metrics.explained_variance_score(y_2W_te, y_2W_l1l2_pred)))"
   ]
  },
  {
   "cell_type": "code",
   "execution_count": null,
   "id": "44f281a9-f735-408f-8f72-8167da9a99a9",
   "metadata": {},
   "outputs": [],
   "source": [
    "plt.figure(figsize = (4, 4))\n",
    "plt.scatter(y_2W_te, y_2W_l1_pred, alpha=0.7, label=\"lasso\")\n",
    "plt.scatter(y_2W_te, y_2W_l1l2_pred, alpha=0.7, label=\"enet\")\n",
    "\n",
    "plt.xlabel(\"true phenotype\")\n",
    "plt.ylabel(\"prediction\")\n",
    "plt.xlim([np.min(y_2W_te) - 5, np.max(y_2W_te) + 5])\n",
    "plt.ylim([np.min(y_2W_te) - 5, np.max(y_2W_te) + 5])\n",
    "\n",
    "plt.plot([np.min(y_2W_te)-5, np.max(y_2W_te)+5], \n",
    "         [np.min(y_2W_te)-5, np.max(y_2W_te)]+5, c=\"black\")\n",
    "\n",
    "plt.legend()"
   ]
  }
 ],
 "metadata": {
  "kernelspec": {
   "display_name": "Python 3",
   "language": "python",
   "name": "python3"
  },
  "language_info": {
   "codemirror_mode": {
    "name": "ipython",
    "version": 3
   },
   "file_extension": ".py",
   "mimetype": "text/x-python",
   "name": "python",
   "nbconvert_exporter": "python",
   "pygments_lexer": "ipython3",
   "version": "3.9.4"
  }
 },
 "nbformat": 4,
 "nbformat_minor": 5
}
