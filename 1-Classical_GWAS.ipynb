{
 "cells": [
  {
   "cell_type": "markdown",
   "id": "bd0ac85e-fa8c-42ca-ac8b-0657e33eb034",
   "metadata": {},
   "source": [
    "# Feature selection in high-dimensional genetic data\n",
    "\n",
    "# Notebook 1: Classical GWAS"
   ]
  },
  {
   "cell_type": "markdown",
   "id": "10d776c6-e812-436b-8f91-e6aae89036d6",
   "metadata": {},
   "source": [
    "## Introduction\n",
    "\n",
    "The goal of this practical session is to manipulate high-dimensional, low sample-size data that is typical of many genetic applications.\n",
    "\n",
    "Here we will work with GWAS data from _Arabidopsis thaliana_, which is a plant model organism (https://upload.wikimedia.org/wikipedia/commons/6/6f/Arabidopsis_thaliana.jpg).\n",
    "\n",
    "The genotypes are hence described by **Single Nucleotide Polymorphisms, or SNPs**. Our goal will be to use this data to identify regions of the genome that can be linked with various growth and flowering traits (**phenotypes**)."
   ]
  },
  {
   "cell_type": "code",
   "execution_count": null,
   "id": "8fb64c66-131e-4b6f-8629-94b791172066",
   "metadata": {},
   "outputs": [],
   "source": [
    "%pylab inline \n",
    "# imports matplotlib as plt and numpy as np"
   ]
  },
  {
   "cell_type": "code",
   "execution_count": null,
   "id": "cbf23d17-2172-463a-9dbf-05d613118dc7",
   "metadata": {},
   "outputs": [],
   "source": [
    "plt.rc('font', **{'size': 14}) # font size for text on plots"
   ]
  },
  {
   "cell_type": "markdown",
   "id": "16f9cbae-48ef-4cc0-b985-df9b12ab44bd",
   "metadata": {},
   "source": [
    "## Data description\n",
    "\n",
    "* `data/athaliana_small.X.txt` is the design matrix. As many rows as samples, as many columns as SNPs\n",
    "* the SNPs are given (in order) in `data/athaliana_small.snps.txt`. \n",
    "* the samples are given (in order) in `data/athaliana.samples.txt`.\n",
    "\n",
    "* the transformed phenotypes are given in `data/athaliana.4W.pheno` and `data/athaliana.2W.pheno`. The first column is the sample's ID, and the second the phenotype.\n",
    "\n",
    "* `data/athaliana.candidates.txt` contains a list of _A. thaliana_ genes known or strongly suspected to be associated with flowering times.\n",
    "\n",
    "* the feature network is in `data/athaliana_small.W.txt`. It has been saved as 3 arrays, corresponding to the row, col, and data attributes of a [scipy.sparse coo_matrix](https://docs.scipy.org/doc/scipy/reference/generated/scipy.sparse.coo_matrix.html)."
   ]
  },
  {
   "cell_type": "markdown",
   "id": "20f02bda-c26f-4e8e-a0d3-4c790d6698c3",
   "metadata": {},
   "source": [
    "## Loading the data\n",
    "We will start by working without the feature network, on the 2W phenotype."
   ]
  },
  {
   "cell_type": "code",
   "execution_count": null,
   "id": "a07b6c77-e265-4468-a28a-887f8533987c",
   "metadata": {},
   "outputs": [],
   "source": [
    "# Load the SNP names\n",
    "with open('data/athaliana_small.snps.txt') as f:\n",
    "    snp_names = f.readline().split()\n",
    "    f.close()\n",
    "print(len(snp_names))"
   ]
  },
  {
   "cell_type": "code",
   "execution_count": null,
   "id": "66d95a76-ca6d-4ff9-928c-13818c893806",
   "metadata": {},
   "outputs": [],
   "source": [
    "# Load the design matrix -- this can take time!\n",
    "X = np.loadtxt('data/athaliana_small.X.txt',  # file names\n",
    "               dtype = 'int') # values are integers"
   ]
  },
  {
   "cell_type": "markdown",
   "id": "4decf46e-bd5d-4a24-9111-e43a233ee1e2",
   "metadata": {},
   "source": [
    "__Q: How many samples are there in the data? How many SNPs are there?__"
   ]
  },
  {
   "cell_type": "code",
   "execution_count": null,
   "id": "88150cf7-a528-4bf4-b2de-42a81ef749e0",
   "metadata": {},
   "outputs": [],
   "source": [
    "# Answer\n"
   ]
  },
  {
   "cell_type": "code",
   "execution_count": null,
   "id": "62e7c32a-caf3-4a63-a4a2-6cb2d2bdefba",
   "metadata": {},
   "outputs": [],
   "source": [
    "p = X.shape[1]"
   ]
  },
  {
   "cell_type": "markdown",
   "id": "a7e14b30-c9f7-4fcc-8878-9667276ab3cf",
   "metadata": {},
   "source": [
    "#### Loading the samples"
   ]
  },
  {
   "cell_type": "code",
   "execution_count": null,
   "id": "efdf4db4-27e1-4e27-83ff-68abb1c5fd4c",
   "metadata": {},
   "outputs": [],
   "source": [
    "samples = list(np.loadtxt('data/athaliana.samples.txt', # file names\n",
    "                         dtype=int)) # values are integers\n",
    "print(len(samples))"
   ]
  },
  {
   "cell_type": "markdown",
   "id": "c92f97f3-e3ec-46b8-ad83-7063b974ac28",
   "metadata": {},
   "source": [
    "#### Loading the 2W phenotype \n",
    "\n",
    "The 2W phenotype os the number of days for the required for the flower stalk to reach 5cm, when plants have been growing at 23°C, with 16hrs of daylight, and have been vernalized for 2 weeks at 5°C with 8hrs of daylight."
   ]
  },
  {
   "cell_type": "code",
   "execution_count": null,
   "id": "c23113ce-6272-4254-a3d9-ce9c07d73456",
   "metadata": {},
   "outputs": [],
   "source": [
    "import pandas as pd"
   ]
  },
  {
   "cell_type": "code",
   "execution_count": null,
   "id": "53405b01-0f09-44ed-887c-c0cd4fd1d3c5",
   "metadata": {},
   "outputs": [],
   "source": [
    "df_2W = pd.read_csv('data/athaliana.2W.pheno', # file name\n",
    "                 header=None, # columns have no header\n",
    "                 delim_whitespace=True, # columns are separated by white space\n",
    "                 index_col=0) # read the first column as index"
   ]
  },
  {
   "cell_type": "code",
   "execution_count": null,
   "id": "9b1078e8-aab1-4281-a9e7-2cca2b022b9b",
   "metadata": {},
   "outputs": [],
   "source": [
    "# Create vector of sample IDs\n",
    "samples_with_phenotype_2W = list(df_2W.index)\n",
    "print(len(samples_with_phenotype_2W), \"samples have a 2W phenotype\")\n",
    "\n",
    "# Create vector of phenotypes\n",
    "y_2W = df_2W[1].to_numpy()"
   ]
  },
  {
   "cell_type": "markdown",
   "id": "3a5777a3-070e-4747-98df-969b72cc6d55",
   "metadata": {},
   "source": [
    "The 2W phenotype is not available for all samples. We need to restrict X to the samples with a 2W phenotype, in correct order"
   ]
  },
  {
   "cell_type": "code",
   "execution_count": null,
   "id": "03c7d75d-0d60-4703-b9ec-b3bac7cc56e1",
   "metadata": {},
   "outputs": [],
   "source": [
    "X_2W = X[np.array([samples.index(sample_id) \\\n",
    "                   for sample_id in samples_with_phenotype_2W]), :]"
   ]
  },
  {
   "cell_type": "markdown",
   "id": "71da1bfe-7f32-41c6-a7b8-65af3524774e",
   "metadata": {},
   "source": [
    "__Q: How many samples do we have now? And how many SNPs? Does this make the task of biomarker detection simpler or harder?__"
   ]
  },
  {
   "cell_type": "code",
   "execution_count": null,
   "id": "448b3166-846d-4485-95ea-f8293a806895",
   "metadata": {},
   "outputs": [],
   "source": []
  },
  {
   "cell_type": "code",
   "execution_count": null,
   "id": "749629f8-b58b-4e8b-bdde-97ec6b96d379",
   "metadata": {},
   "outputs": [],
   "source": [
    "# You can delete X now to free space\n",
    "del X"
   ]
  },
  {
   "cell_type": "markdown",
   "id": "4abad13c-8690-4a0f-90ba-ee4ae7bd5d85",
   "metadata": {},
   "source": [
    "#### Loading the list of candidate genes\n",
    "\n",
    "Candidate genes are genes that are known (or strongly suspected) to be associated with flowering traits in _A. thaliana_. They will serve as (imperfect) ground truth for our experiments."
   ]
  },
  {
   "cell_type": "code",
   "execution_count": null,
   "id": "c1ed0cfe-cd34-4f4a-831c-780291698adc",
   "metadata": {},
   "outputs": [],
   "source": [
    "with open('data/athaliana.candidates.txt') as f:\n",
    "    candidate_genes = f.readline().split()\n",
    "    f.close()"
   ]
  },
  {
   "cell_type": "markdown",
   "id": "2970bf66-f8ac-4420-b6cc-bd366ab50473",
   "metadata": {},
   "source": [
    "#### Loading the SNPs-to-gene mapping\n",
    "\n",
    "Remember our features are Single-Nucleotide Polymorphisms. In order to compare selected SNPs to candidate genes, we need to map SNPs to genes in or near which they are located."
   ]
  },
  {
   "cell_type": "code",
   "execution_count": null,
   "id": "bb9c4bd8-e21a-4695-b19e-5d7f49812597",
   "metadata": {},
   "outputs": [],
   "source": [
    "genes_by_snp = {} # key: SNP, value = [genes in/near which this SNP is]\n",
    "with open('data/athaliana.snps_by_gene.txt') as f:\n",
    "    for line in f:\n",
    "        ls = line.split()\n",
    "        gene_id = ls[0]\n",
    "        for snp_id in ls[1:]:\n",
    "            if not snp_id in genes_by_snp:\n",
    "                genes_by_snp[snp_id] = []\n",
    "            genes_by_snp[snp_id].append(gene_id) "
   ]
  },
  {
   "cell_type": "markdown",
   "id": "ce391206-b4b0-455d-997a-1fcda1568de0",
   "metadata": {},
   "source": [
    "## Splitting the data into a train and test set\n",
    "\n",
    "In machine learning, we always split the data into a *train* set, which serves to fit the model, and a *test* set, which serves to measure the model's performance.\n",
    "\n",
    "__Q: Why? What happens if we do both the training and testing on the same data?__"
   ]
  },
  {
   "cell_type": "code",
   "execution_count": null,
   "id": "3ba3479a-04d7-4963-82c9-e2641ec1f0d5",
   "metadata": {},
   "outputs": [],
   "source": []
  },
  {
   "cell_type": "markdown",
   "id": "609b2617-f5aa-4069-9955-ee11593fbfd4",
   "metadata": {},
   "source": [
    "We will set aside a test set, containing 20% of our samples, on which to evaluate the quality of our predictive models.\n",
    "\n",
    "__Q: What problem occurs if we set a test set that is too large in proportion? What problem occurs when it is set too small?__"
   ]
  },
  {
   "cell_type": "code",
   "execution_count": null,
   "id": "0a082e9e-76c3-448c-9fa6-72203e5c5777",
   "metadata": {},
   "outputs": [],
   "source": []
  },
  {
   "cell_type": "code",
   "execution_count": null,
   "id": "34093e8d-d30d-41f9-affa-db77e441cf5b",
   "metadata": {},
   "outputs": [],
   "source": [
    "from sklearn import model_selection"
   ]
  },
  {
   "cell_type": "code",
   "execution_count": null,
   "id": "a037eed6-07d2-47af-b8df-8af8c1b4827b",
   "metadata": {},
   "outputs": [],
   "source": [
    "X_2W_tr, X_2W_te, y_2W_tr, y_2W_te = \\\n",
    "    model_selection.train_test_split(X_2W, y_2W, test_size=0.2, random_state=17)\n",
    "print(X_2W_tr.shape, X_2W_te.shape)"
   ]
  },
  {
   "cell_type": "markdown",
   "id": "6725fbe0-d14d-4ec3-9adb-6b2e80a8f0fd",
   "metadata": {},
   "source": [
    "## Data exploration\n",
    "### Visualizing the phenotype"
   ]
  },
  {
   "cell_type": "code",
   "execution_count": null,
   "id": "a68d2e8f-d203-44df-9e6d-4f90b7e64925",
   "metadata": {},
   "outputs": [],
   "source": [
    "h = plt.hist(y_2W_tr, bins=30)"
   ]
  },
  {
   "cell_type": "markdown",
   "id": "a09c1089-21a6-479f-9eb6-dfb56225013a",
   "metadata": {},
   "source": [
    "### Visualizing the genotype's correlation structure"
   ]
  },
  {
   "cell_type": "code",
   "execution_count": null,
   "id": "b1cdb5cc-e42e-4ced-9c23-eb58e3c604dd",
   "metadata": {},
   "outputs": [],
   "source": [
    "#import seaborn as sn\n",
    "sigma = pd.DataFrame(X_2W_tr).corr()"
   ]
  },
  {
   "cell_type": "code",
   "execution_count": null,
   "id": "9a0855a4-ada6-4252-a7d8-64639a4e8e78",
   "metadata": {},
   "outputs": [],
   "source": [
    "fig = plt.figure()\n",
    "plt.imshow(sigma.iloc[0:1000, 0:1000])\n",
    "plt.colorbar()\n",
    "plt.title(\"Correlation between the first 1000 SNPs\")"
   ]
  },
  {
   "cell_type": "code",
   "execution_count": null,
   "id": "8131d431-af15-4682-b0a8-5d4da215d375",
   "metadata": {},
   "outputs": [],
   "source": [
    "fig = plt.figure()\n",
    "plt.imshow(sigma.iloc[0:100, 0:100])\n",
    "plt.colorbar()\n",
    "plt.title(\"Correlation between the first 100 SNPs\")"
   ]
  },
  {
   "cell_type": "markdown",
   "id": "bdda2416-cd00-4982-9e7f-76b0f5929a4a",
   "metadata": {},
   "source": [
    "__Q: What observation can you make about the phenotype and genotype?__"
   ]
  },
  {
   "cell_type": "code",
   "execution_count": null,
   "id": "a684f858-777f-4271-802d-fae2b060ed76",
   "metadata": {},
   "outputs": [],
   "source": []
  },
  {
   "cell_type": "markdown",
   "id": "9fb1dad3-dd8f-4489-893a-c6f9fb41473e",
   "metadata": {},
   "source": [
    "## T-tests\n",
    "\n",
    "Let us start by running a statistical test for association of each SNP feature with the phenotype."
   ]
  },
  {
   "cell_type": "code",
   "execution_count": null,
   "id": "0bb9f9a2-048f-4d1c-9026-69dd16189683",
   "metadata": {},
   "outputs": [],
   "source": [
    "import statsmodels.api as sm"
   ]
  },
  {
   "cell_type": "markdown",
   "id": "36059546-7716-481d-b8d0-6b2f21ea29c6",
   "metadata": {},
   "source": [
    "### T-test on a single SNP\n",
    "We will perform a linear regression on a single SNP and test whether this SNP has an effect on the phenotype."
   ]
  },
  {
   "cell_type": "code",
   "execution_count": null,
   "id": "3b429d7b-8514-4750-8cd3-2e315ca4c41d",
   "metadata": {},
   "outputs": [],
   "source": [
    "est = sm.regression.linear_model.OLS(y_2W_tr, sm.add_constant(X_2W_tr[:, 0])).fit()\n",
    "print(est.summary())"
   ]
  },
  {
   "cell_type": "markdown",
   "id": "23e87bbc-a388-447c-8344-f666e4d5ef13",
   "metadata": {},
   "source": [
    "__Q: In the previous table, where is the p-value of the T-test? What can you conclude about the effect of the first SNP on the phenotype?__"
   ]
  },
  {
   "cell_type": "code",
   "execution_count": null,
   "id": "7a450cb1-a6f8-4870-b7d4-942a41f3d30a",
   "metadata": {},
   "outputs": [],
   "source": []
  },
  {
   "cell_type": "markdown",
   "id": "3c16563b-86e1-4778-a23b-4d4316f583cc",
   "metadata": {},
   "source": [
    "### T-test on all SNPs"
   ]
  },
  {
   "cell_type": "code",
   "execution_count": null,
   "id": "69afb122-fdbd-4ecb-ba22-1840db5637ec",
   "metadata": {},
   "outputs": [],
   "source": [
    "pvalues = []\n",
    "for snp_idx in range(p):\n",
    "    # only look a the column corresponding at that SNP\n",
    "    X_snp = X_2W_tr[:, snp_idx]\n",
    "    # run a linear regression (with bias) between the phenotype and this SNP\n",
    "    X_snp = sm.add_constant(X_snp)\n",
    "    est = sm.regression.linear_model.OLS(y_2W_tr, X_snp)\n",
    "    est2 = est.fit()\n",
    "    # get the p-value from the model \n",
    "    pvalues.append(est2.pvalues[1])\n",
    "pvalues = np.array(pvalues)"
   ]
  },
  {
   "cell_type": "markdown",
   "id": "b4421615-f9b2-469e-917f-64b4e47afb3c",
   "metadata": {},
   "source": [
    "### Manhattan plot\n",
    "\n",
    "The common way to visualize such results is by using a Manhattan plot: we will plot all SNPs on the x-axis, and on the y-axis we'll have the opposite of the log base 10 of the p-value. The lower the p-value, the higher the corresponding marker. \n",
    "\n",
    "We will also add a horizontal line that corresponds to the _threshold for significance_. Because we are testing multiple hypotheses, we need to lower our threshold accordingly. We will use __Bonferroni correction__ and divide the significance threshold (say, alpha=0.05) by the number of tests, that is, the number of SNPs p."
   ]
  },
  {
   "cell_type": "code",
   "execution_count": null,
   "id": "eced8d9b-5f38-4205-b93e-a0c4b51f3d48",
   "metadata": {},
   "outputs": [],
   "source": [
    "plt.scatter(range(p), # x = SNP position\n",
    "            -np.log10(pvalues)) # y = -log10 p-value \n",
    "\n",
    "# significance threshold according to Bonferroni correction\n",
    "t = -np.log10(0.05 / p)\n",
    "plt.plot([0, p], [t, t])\n",
    "\n",
    "# plot labels\n",
    "plt.xlabel(\"feature\")\n",
    "plt.ylabel(\"-log10 p-value\")\n",
    "plt.xlim([0, p])"
   ]
  },
  {
   "cell_type": "markdown",
   "id": "385e42c1-e6ca-4322-acae-c95846fc0cdc",
   "metadata": {},
   "source": [
    "We will now see whether any of the SNPs have a p-value lower than the Bonferroni-corrected threshold, and if so, whether those SNPs are in or near a candidate gene."
   ]
  },
  {
   "cell_type": "code",
   "execution_count": null,
   "id": "5517a36b-bd8f-4e8d-9376-95a20a89094c",
   "metadata": {},
   "outputs": [],
   "source": [
    "thresh = 0.05 / p # significance threshold set using the Bonferroni correction\n",
    "\n",
    "for snp_idx in np.where(pvalues < thresh)[0]:\n",
    "    print((\"%.2e\" % pvalues[snp_idx]), snp_names[snp_idx])\n",
    "    for gene_id in genes_by_snp[snp_names[snp_idx]]:\n",
    "        if gene_id in candidate_genes:\n",
    "            print(\"\\t in/near candidate gene %s\" % gene_id)"
   ]
  },
  {
   "cell_type": "markdown",
   "id": "f86c842b-a73e-4edd-8867-31263161d149",
   "metadata": {},
   "source": [
    "__Q: Are any SNPs significantly associated with the phenotype? Are they biologically meaningful?__\n",
    "You can use https://www.arabidopsis.org/index.jsp to obtain more information about a gene from its name."
   ]
  }
 ],
 "metadata": {
  "kernelspec": {
   "display_name": "Python 3",
   "language": "python",
   "name": "python3"
  },
  "language_info": {
   "codemirror_mode": {
    "name": "ipython",
    "version": 3
   },
   "file_extension": ".py",
   "mimetype": "text/x-python",
   "name": "python",
   "nbconvert_exporter": "python",
   "pygments_lexer": "ipython3",
   "version": "3.9.4"
  }
 },
 "nbformat": 4,
 "nbformat_minor": 5
}
